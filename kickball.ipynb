{
 "cells": [
  {
   "cell_type": "code",
   "execution_count": 2,
   "id": "523f858e",
   "metadata": {},
   "outputs": [
    {
     "data": {
      "text/html": [
       "<div>\n",
       "<style scoped>\n",
       "    .dataframe tbody tr th:only-of-type {\n",
       "        vertical-align: middle;\n",
       "    }\n",
       "\n",
       "    .dataframe tbody tr th {\n",
       "        vertical-align: top;\n",
       "    }\n",
       "\n",
       "    .dataframe thead th {\n",
       "        text-align: right;\n",
       "    }\n",
       "</style>\n",
       "<table border=\"1\" class=\"dataframe\">\n",
       "  <thead>\n",
       "    <tr style=\"text-align: right;\">\n",
       "      <th></th>\n",
       "      <th>Name</th>\n",
       "      <th>Status</th>\n",
       "      <th>Plus ones</th>\n",
       "      <th>RSVP date</th>\n",
       "      <th>would you be interested in eating some traditional july 4 fare afterwards at joe's house</th>\n",
       "      <th>if so, do you have any dietary restrictions?</th>\n",
       "    </tr>\n",
       "  </thead>\n",
       "  <tbody>\n",
       "    <tr>\n",
       "      <th>0</th>\n",
       "      <td>Aaron</td>\n",
       "      <td>Going</td>\n",
       "      <td>2.0</td>\n",
       "      <td>2025-07-01 05:14:10</td>\n",
       "      <td>yes</td>\n",
       "      <td>Pescatarian</td>\n",
       "    </tr>\n",
       "    <tr>\n",
       "      <th>1</th>\n",
       "      <td>Aaron</td>\n",
       "      <td>Going</td>\n",
       "      <td>NaN</td>\n",
       "      <td>2025-07-01 04:37:46</td>\n",
       "      <td>yes</td>\n",
       "      <td>I eat freedom and democracy for lunch</td>\n",
       "    </tr>\n",
       "    <tr>\n",
       "      <th>2</th>\n",
       "      <td>Abby M</td>\n",
       "      <td>Maybe</td>\n",
       "      <td>NaN</td>\n",
       "      <td>2025-07-02 00:49:38</td>\n",
       "      <td>yes</td>\n",
       "      <td>No</td>\n",
       "    </tr>\n",
       "    <tr>\n",
       "      <th>3</th>\n",
       "      <td>Aidan Rand</td>\n",
       "      <td>Going</td>\n",
       "      <td>NaN</td>\n",
       "      <td>2025-07-01 05:15:41</td>\n",
       "      <td>yes</td>\n",
       "      <td>NaN</td>\n",
       "    </tr>\n",
       "    <tr>\n",
       "      <th>4</th>\n",
       "      <td>Al</td>\n",
       "      <td>Maybe</td>\n",
       "      <td>NaN</td>\n",
       "      <td>2025-07-02 22:29:49</td>\n",
       "      <td>naw</td>\n",
       "      <td>NaN</td>\n",
       "    </tr>\n",
       "  </tbody>\n",
       "</table>\n",
       "</div>"
      ],
      "text/plain": [
       "         Name Status  Plus ones            RSVP date  \\\n",
       "0       Aaron  Going        2.0  2025-07-01 05:14:10   \n",
       "1       Aaron  Going        NaN  2025-07-01 04:37:46   \n",
       "2      Abby M  Maybe        NaN  2025-07-02 00:49:38   \n",
       "3  Aidan Rand  Going        NaN  2025-07-01 05:15:41   \n",
       "4          Al  Maybe        NaN  2025-07-02 22:29:49   \n",
       "\n",
       "  would you be interested in eating some traditional july 4 fare afterwards at joe's house  \\\n",
       "0                                                yes                                         \n",
       "1                                                yes                                         \n",
       "2                                                yes                                         \n",
       "3                                                yes                                         \n",
       "4                                                naw                                         \n",
       "\n",
       "  if so, do you have any dietary restrictions?  \n",
       "0                                  Pescatarian  \n",
       "1        I eat freedom and democracy for lunch  \n",
       "2                                           No  \n",
       "3                                          NaN  \n",
       "4                                          NaN  "
      ]
     },
     "execution_count": 2,
     "metadata": {},
     "output_type": "execute_result"
    }
   ],
   "source": [
    "import pandas as pd\n",
    "\n",
    "df = pd.read_csv(\"kickballcivilization_7-04_guests.csv\")\n",
    "df.iloc[:5]"
   ]
  },
  {
   "cell_type": "code",
   "execution_count": 6,
   "id": "180a1b7f",
   "metadata": {},
   "outputs": [
    {
     "data": {
      "text/plain": [
       "([<matplotlib.patches.Wedge at 0x10d7a5fc0>,\n",
       "  <matplotlib.patches.Wedge at 0x10d7a6ef0>,\n",
       "  <matplotlib.patches.Wedge at 0x10d7a7a60>,\n",
       "  <matplotlib.patches.Wedge at 0x10be85c60>],\n",
       " [Text(0.29428110789865214, 1.0599050096748963, 'Going'),\n",
       "  Text(-0.9425427284230392, -0.5671095177272668, 'Invited'),\n",
       "  Text(0.515249984698643, -0.9718628778114988, \"Can't\\xa0Go\"),\n",
       "  Text(1.042418607175302, -0.3512313303432699, 'Maybe')])"
      ]
     },
     "execution_count": 6,
     "metadata": {},
     "output_type": "execute_result"
    },
    {
     "data": {
      "image/png": "[encoded data removed]",
      "text/plain": [
       "<Figure size 640x480 with 1 Axes>"
      ]
     },
     "metadata": {},
     "output_type": "display_data"
    }
   ],
   "source": [
    "import matplotlib.pyplot as plt\n",
    "\n",
    "df_status = df[\"Status\"].value_counts()\n",
    "plt.pie(df_status.values, labels=df_status.index)"
   ]
  }
 ],
 "metadata": {
  "kernelspec": {
   "display_name": ".venv",
   "language": "python",
   "name": "python3"
  },
  "language_info": {
   "codemirror_mode": {
    "name": "ipython",
    "version": 3
   },
   "file_extension": ".py",
   "mimetype": "text/x-python",
   "name": "python",
   "nbconvert_exporter": "python",
   "pygments_lexer": "ipython3",
   "version": "3.10.6"
  }
 },
 "nbformat": 4,
 "nbformat_minor": 5
}
